{
 "cells": [
  {
   "cell_type": "code",
   "execution_count": 183,
   "metadata": {},
   "outputs": [
    {
     "data": {
      "text/plain": [
       "['pauthor_x',\n",
       " 'peditor_x',\n",
       " 'ptitle_x',\n",
       " 'pyear_x',\n",
       " 'paddress_x',\n",
       " 'ppublisher_x',\n",
       " 'pseries_x',\n",
       " 'pid_x',\n",
       " 'partition_x',\n",
       " 'book_title_full_x',\n",
       " 'book_title_x',\n",
       " 'journal_full_x',\n",
       " 'journal_x',\n",
       " 'source_type_x']"
      ]
     },
     "execution_count": 183,
     "metadata": {},
     "output_type": "execute_result"
    }
   ],
   "source": [
    "\n",
    "import pandas as pd\n",
    "\n",
    "\n",
    "df = pd.read_csv(\"test_output.csv\")\n",
    "list(filter(lambda x: '_x' in x, list(df.columns)))"
   ]
  },
  {
   "cell_type": "code",
   "execution_count": 135,
   "metadata": {},
   "outputs": [
    {
     "name": "stderr",
     "output_type": "stream",
     "text": [
      "22/03/11 16:19:15 WARN CSVHeaderChecker: CSV header does not conform to the schema.\n",
      " Header: , key1, key2, label, partition\n",
      " Schema: _c0, key1, key2, label, partition\n",
      "Expected: _c0 but found: \n",
      "CSV file: file:///home/bart2/uva/BD/project/pipeline/data/train.csv\n",
      "22/03/11 16:19:15 WARN CSVHeaderChecker: CSV header does not conform to the schema.\n",
      " Header: , pauthor, peditor, ptitle, pyear, paddress, ppublisher, pseries, pid, pkey, ptype_id, pjournal_id, pbooktitle_id, pjournalfull_id, pbooktitlefull_id, partition\n",
      " Schema: _c0, pauthor, peditor, ptitle, pyear, paddress, ppublisher, pseries, pid, pkey, ptype_id, pjournal_id, pbooktitle_id, pjournalfull_id, pbooktitlefull_id, partition\n",
      "Expected: _c0 but found: \n",
      "CSV file: file:///home/bart2/uva/BD/project/pipeline/data/dblp/dblp-3.csv\n"
     ]
    },
    {
     "name": "stdout",
     "output_type": "stream",
     "text": [
      "+--------------------+---+--------------------+-----+---------+-----------+--------------------+-------+--------------------+-----+--------+----------+-------+------+---------+--------------------+------------------+------------+-------+-------------+\n",
      "|                key1|_c0|                key2|label|partition|original_id|             pauthor|peditor|              ptitle|pyear|paddress|ppublisher|pseries|   pid|partition|     book_title_full|        book_title|journal_full|journal|  source_type|\n",
      "+--------------------+---+--------------------+-----+---------+-----------+--------------------+-------+--------------------+-----+--------+----------+-------+------+---------+--------------------+------------------+------------+-------+-------------+\n",
      "|  conf/prib/AhmedF07|  0|journals/jcc/Patr...|False|        7|       null|                null|   null|                null| null|    null|      null|   null|  null|     null|                null|              null|        null|   null|         null|\n",
      "| conf/vlsid/ChenCC95|  1|journals/tcad/Luo...| True|        4|       null|                null|   null|                null| null|    null|      null|   null|  null|     null|                null|              null|        null|   null|         null|\n",
      "|  conf/prozess/Sun88|  2| conf/isnn/SunZLCS07| True|        8|       null|                null|   null|                null| null|    null|      null|   null|  null|     null|                null|              null|        null|   null|         null|\n",
      "|conf/pricai/Beaum...|  3|conf/icip/SattarAS08|False|        5|       null|                null|   null|                null| null|    null|      null|   null|  null|     null|                null|              null|        null|   null|         null|\n",
      "|conf/dft/SemiaoRV...|  4|conf/iolts/Rodrig...| True|        7|       null|                null|   null|                null| null|    null|      null|   null|  null|     null|                null|              null|        null|   null|         null|\n",
      "|conf/lmo/Demphlou...|  6|conf/reflection/D...| True|        3|          6|Stéphane Demphlou...|   null|Intégration de la...| 1996|    null|      null|   null|810901|        3|Sympớsiúm ớn Réli...|               LMO|        null|   null|inproceedings|\n",
      "|conf/dagstuhl/Cai...|  7|conf/iros/LeeATIHO08|False|        7|       null|                null|   null|                null| null|    null|      null|   null|  null|     null|                null|              null|        null|   null|         null|\n",
      "|   conf/eh/ZhaoJZW05|  8|journals/mj/CaoCR...| True|        8|          8|Shuguang Zhao|Lic...|   null|Evolutionary Desi...| 2005|    null|      null|   null|210834|        3|Mathematical Foun...|Evolvable Hardware|        null|   null|inproceedings|\n",
      "|conf/ifip5-5/Muld...|  9|journals/neco/Giu...|False|        5|       null|                null|   null|                null| null|    null|      null|   null|  null|     null|                null|              null|        null|   null|         null|\n",
      "|   journals/tit/BT07| 10|conf/wimob/Phromp...|False|        4|       null|                null|   null|                null| null|    null|      null|   null|  null|     null|                null|              null|        null|   null|         null|\n",
      "+--------------------+---+--------------------+-----+---------+-----------+--------------------+-------+--------------------+-----+--------+----------+-------+------+---------+--------------------+------------------+------------+-------+-------------+\n",
      "\n"
     ]
    }
   ],
   "source": []
  },
  {
   "cell_type": "code",
   "execution_count": 66,
   "metadata": {},
   "outputs": [
    {
     "data": {
      "text/plain": [
       "(1, 1, 2)"
      ]
     },
     "execution_count": 66,
     "metadata": {},
     "output_type": "execute_result"
    }
   ],
   "source": [
    "a, (b, c) = (1, (1,2))\n",
    "a, b, c"
   ]
  }
 ],
 "metadata": {
  "interpreter": {
   "hash": "575c7347c99b0abc1a7695882a342cd99b02b525f9b346c8d5666d4d51abf953"
  },
  "kernelspec": {
   "display_name": "Python 3 (ipykernel)",
   "language": "python",
   "name": "python3"
  },
  "language_info": {
   "codemirror_mode": {
    "name": "ipython",
    "version": 3
   },
   "file_extension": ".py",
   "mimetype": "text/x-python",
   "name": "python",
   "nbconvert_exporter": "python",
   "pygments_lexer": "ipython3",
   "version": "3.9.5"
  }
 },
 "nbformat": 4,
 "nbformat_minor": 2
}
